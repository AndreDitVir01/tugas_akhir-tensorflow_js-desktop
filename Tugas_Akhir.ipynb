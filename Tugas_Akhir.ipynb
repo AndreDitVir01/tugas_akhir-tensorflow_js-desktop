{
  "nbformat": 4,
  "nbformat_minor": 0,
  "metadata": {
    "colab": {
      "name": "Tugas Akhir.ipynb",
      "provenance": [],
      "collapsed_sections": [
        "Oapbvtnd1b0m",
        "5SZK1Eh2G9gN",
        "lKzXg0h15Xhy"
      ],
      "authorship_tag": "ABX9TyM9VZVuGW/K+bEWG2LOVMfW",
      "include_colab_link": true
    },
    "kernelspec": {
      "name": "python3",
      "display_name": "Python 3"
    },
    "accelerator": "GPU"
  },
  "cells": [
    {
      "cell_type": "markdown",
      "metadata": {
        "id": "view-in-github",
        "colab_type": "text"
      },
      "source": [
        "<a href=\"https://colab.research.google.com/github/AndreDitVir01/tugas_akhir-tensorflow_js-desktop/blob/main/Tugas_Akhir.ipynb\" target=\"_parent\"><img src=\"https://colab.research.google.com/assets/colab-badge.svg\" alt=\"Open In Colab\"/></a>"
      ]
    },
    {
      "cell_type": "markdown",
      "metadata": {
        "id": "Oapbvtnd1b0m"
      },
      "source": [
        "# **Tugas Akhir**\n",
        "Judul : *Aplikasi Deteksi Objek Di Sekitar Untuk Tunanetra Menggunakan Algoritma Convolutional Neural Network*\n",
        "\n",
        "Nama  : Nova Andre Saputra\n",
        "\n",
        "NRP   : 2103181060\n",
        "\n",
        "Kelas : 3 D3 Teknik Informatika B"
      ]
    },
    {
      "cell_type": "markdown",
      "metadata": {
        "id": "uIO3lW6oJRJx"
      },
      "source": [
        "# **PREPARATION**"
      ]
    },
    {
      "cell_type": "markdown",
      "metadata": {
        "id": "5SZK1Eh2G9gN"
      },
      "source": [
        "### Tools (Local Computer)\n",
        "Tools yang akan digunakan dan fungsinya\n",
        "1. **Python 3.7** adalah bahasa pemrograman interpretatif multiguna. Tidak seperti bahasa lain yang susah untuk dibaca dan dipahami, python lebih menekankan pada keterbacaan kode agar lebih mudah untuk memahami sintaks. Hal ini membuat Python sangat mudah dipelajari baik untuk pemula maupun untuk yang sudah menguasai bahasa pemrograman lain.\n",
        "\n",
        "2. **Redist** Dengan kata lain, code dari shared code libraries ini adalah solusi bagi mereka yang tidak ingin menulis code-nya dari awal. Semua code tersebut memiliki bentuk atau format DLL (Dynamic Link Libaries) yang pastinya cukup familiar di telinga kita. Disaat para pengembang atau developer siap merilis software-nya ke para pengguna, para pengembang tersebut memiliki pilihan. Yaitu pilihan apakah mereka ingin menyatukan file DLL tersebut bersama instalasi software atau menggunakan package code standar yang dapat digunakan secara umum. Nah, DLL yang menjadi standar dari package code itulah yang disebut dengan Microsoft Visual C++ Redistributable.\n",
        "\n",
        "3. **VsTool** merupakan sebuah perangkat lunak lengkap (suite) yang dapat digunakan untuk melakukan pengembangan aplikasi, baik itu aplikasi bisnis, aplikasi personal, ataupun komponen aplikasinya, dalam bentuk aplikasi console, aplikasi Windows, ataupun aplikasi Web."
      ]
    },
    {
      "cell_type": "markdown",
      "metadata": {
        "id": "lKzXg0h15Xhy"
      },
      "source": [
        "### Library Python (Local Computer)\n",
        "\n",
        "1. **Tensorflow 2.x** \n",
        "\n",
        "> Keras + Tensorflow = Konstruksi Neural Network yang lebih mudah\n",
        "\n",
        "> Ketika Tensorflow memberikan begitu banyak fitur bagi para developer yang menggunakannya, Keras membuat segala sesuatunya menjadi lebih user-friendly (mudah digunakan) ketika kamu ingin bereksperimen dengan neural network kamu.\n",
        "\n",
        "> Apabila kamu senang membuat jaringan kamu lapis demi lapis, maka tf.kerasakan menjadi teman baik kamu. Dengan hanya beberapa baris kode di bawah, kita telah dapat menciptakan sequential neural network (berurut), eksekusi per lapis dalam jaringannya dilakukan menurut urutan yang kita definisikan.\n",
        "\n",
        "2. **Tf Slim** adalah pustaka pembungkus TensorFlow yang memungkinkan Anda membuat dan melatih model TensorFlow kompleks dengan cara yang mudah dan intuitif dengan menghilangkan kode boilerplate yang mengganggu banyak algoritme deep learning.\n",
        "\n",
        "3. **Py Win** adalah ekstensi Python untuk Microsoft Windows Menyediakan akses ke banyak Win32 API, kemampuan untuk membuat dan menggunakan objek COM, dan lingkungan Pythonwin.\n",
        "\n",
        "4. **Py Coco Tools** merupakan Official APIs for the MS-COCO dataset\n",
        "\n",
        "5. **Pandas** adalah sebuah library di Python yang berlisensi BSD dan open source yang menyediakan struktur data dan analisis data yang mudah digunakan. Pandas biasa digunakan untuk membuat tabel, mengubah dimensi data, mengecek data, dan lain sebagainya.\n",
        "\n",
        "6. **Tf Models Official** adalah kumpulan model yang menggunakan API level tinggi TensorFlow. Mereka dimaksudkan untuk dipelihara dengan baik, diuji, dan selalu diperbarui dengan TensorFlow API terbaru. Mereka juga harus dioptimalkan secara wajar untuk kinerja yang cepat namun tetap mudah dibaca.\n",
        "\n",
        "7. **OpenCV Python 3.4.11.43** adalah sebuah library (perpustakaan) yang digunakan untuk mengolah gambar dan video.\n",
        "\n",
        "8. **Lvis** (dibaca 'el-vis'): adalah kumpulan data baru untuk Segmentasi Instans Kosakata Besar. Kami mengumpulkan lebih dari 2 juta masker segmentasi instance berkualitas tinggi untuk lebih dari 1.200 kategori objek level awal dalam 164 ribu gambar. LVIS API memungkinkan membaca dan berinteraksi dengan file penjelasan, memvisualisasikan penjelasan, dan mengevaluasi hasil.\n",
        "\n",
        "Protobuff Model File Extraction\n",
        "*https://github.com/protocolbuffers/protobuf/releases/download/v3.13.0/protoc-3.13.0-win64.zip*\n",
        "\n",
        "Tensorflow Model\n",
        "*https://github.com/tensorflow/models/archive/master.zip*"
      ]
    },
    {
      "cell_type": "code",
      "metadata": {
        "id": "UEMam3M7BjhN",
        "colab": {
          "base_uri": "https://localhost:8080/"
        },
        "outputId": "351aafe2-d77f-4b86-a2d6-5c291ae536b4"
      },
      "source": [
        "pip install tensorflow==1.15"
      ],
      "execution_count": 1,
      "outputs": [
        {
          "output_type": "stream",
          "text": [
            "Collecting tensorflow==1.15\n",
            "\u001b[?25l  Downloading https://files.pythonhosted.org/packages/92/2b/e3af15221da9ff323521565fa3324b0d7c7c5b1d7a8ca66984c8d59cb0ce/tensorflow-1.15.0-cp37-cp37m-manylinux2010_x86_64.whl (412.3MB)\n",
            "\u001b[K     |████████████████████████████████| 412.3MB 40kB/s \n",
            "\u001b[?25hRequirement already satisfied: six>=1.10.0 in /usr/local/lib/python3.7/dist-packages (from tensorflow==1.15) (1.15.0)\n",
            "Collecting keras-applications>=1.0.8\n",
            "\u001b[?25l  Downloading https://files.pythonhosted.org/packages/71/e3/19762fdfc62877ae9102edf6342d71b28fbfd9dea3d2f96a882ce099b03f/Keras_Applications-1.0.8-py3-none-any.whl (50kB)\n",
            "\u001b[K     |████████████████████████████████| 51kB 7.1MB/s \n",
            "\u001b[?25hRequirement already satisfied: wheel>=0.26 in /usr/local/lib/python3.7/dist-packages (from tensorflow==1.15) (0.36.2)\n",
            "Requirement already satisfied: wrapt>=1.11.1 in /usr/local/lib/python3.7/dist-packages (from tensorflow==1.15) (1.12.1)\n",
            "Requirement already satisfied: grpcio>=1.8.6 in /usr/local/lib/python3.7/dist-packages (from tensorflow==1.15) (1.32.0)\n",
            "Requirement already satisfied: google-pasta>=0.1.6 in /usr/local/lib/python3.7/dist-packages (from tensorflow==1.15) (0.2.0)\n",
            "Collecting gast==0.2.2\n",
            "  Downloading https://files.pythonhosted.org/packages/4e/35/11749bf99b2d4e3cceb4d55ca22590b0d7c2c62b9de38ac4a4a7f4687421/gast-0.2.2.tar.gz\n",
            "Requirement already satisfied: keras-preprocessing>=1.0.5 in /usr/local/lib/python3.7/dist-packages (from tensorflow==1.15) (1.1.2)\n",
            "Requirement already satisfied: opt-einsum>=2.3.2 in /usr/local/lib/python3.7/dist-packages (from tensorflow==1.15) (3.3.0)\n",
            "Requirement already satisfied: protobuf>=3.6.1 in /usr/local/lib/python3.7/dist-packages (from tensorflow==1.15) (3.12.4)\n",
            "Requirement already satisfied: numpy<2.0,>=1.16.0 in /usr/local/lib/python3.7/dist-packages (from tensorflow==1.15) (1.19.5)\n",
            "Collecting tensorflow-estimator==1.15.1\n",
            "\u001b[?25l  Downloading https://files.pythonhosted.org/packages/de/62/2ee9cd74c9fa2fa450877847ba560b260f5d0fb70ee0595203082dafcc9d/tensorflow_estimator-1.15.1-py2.py3-none-any.whl (503kB)\n",
            "\u001b[K     |████████████████████████████████| 512kB 46.6MB/s \n",
            "\u001b[?25hRequirement already satisfied: termcolor>=1.1.0 in /usr/local/lib/python3.7/dist-packages (from tensorflow==1.15) (1.1.0)\n",
            "Requirement already satisfied: astor>=0.6.0 in /usr/local/lib/python3.7/dist-packages (from tensorflow==1.15) (0.8.1)\n",
            "Collecting tensorboard<1.16.0,>=1.15.0\n",
            "\u001b[?25l  Downloading https://files.pythonhosted.org/packages/1e/e9/d3d747a97f7188f48aa5eda486907f3b345cd409f0a0850468ba867db246/tensorboard-1.15.0-py3-none-any.whl (3.8MB)\n",
            "\u001b[K     |████████████████████████████████| 3.8MB 43.2MB/s \n",
            "\u001b[?25hRequirement already satisfied: absl-py>=0.7.0 in /usr/local/lib/python3.7/dist-packages (from tensorflow==1.15) (0.12.0)\n",
            "Requirement already satisfied: h5py in /usr/local/lib/python3.7/dist-packages (from keras-applications>=1.0.8->tensorflow==1.15) (2.10.0)\n",
            "Requirement already satisfied: setuptools in /usr/local/lib/python3.7/dist-packages (from protobuf>=3.6.1->tensorflow==1.15) (54.2.0)\n",
            "Requirement already satisfied: markdown>=2.6.8 in /usr/local/lib/python3.7/dist-packages (from tensorboard<1.16.0,>=1.15.0->tensorflow==1.15) (3.3.4)\n",
            "Requirement already satisfied: werkzeug>=0.11.15 in /usr/local/lib/python3.7/dist-packages (from tensorboard<1.16.0,>=1.15.0->tensorflow==1.15) (1.0.1)\n",
            "Requirement already satisfied: importlib-metadata; python_version < \"3.8\" in /usr/local/lib/python3.7/dist-packages (from markdown>=2.6.8->tensorboard<1.16.0,>=1.15.0->tensorflow==1.15) (3.8.1)\n",
            "Requirement already satisfied: zipp>=0.5 in /usr/local/lib/python3.7/dist-packages (from importlib-metadata; python_version < \"3.8\"->markdown>=2.6.8->tensorboard<1.16.0,>=1.15.0->tensorflow==1.15) (3.4.1)\n",
            "Requirement already satisfied: typing-extensions>=3.6.4; python_version < \"3.8\" in /usr/local/lib/python3.7/dist-packages (from importlib-metadata; python_version < \"3.8\"->markdown>=2.6.8->tensorboard<1.16.0,>=1.15.0->tensorflow==1.15) (3.7.4.3)\n",
            "Building wheels for collected packages: gast\n",
            "  Building wheel for gast (setup.py) ... \u001b[?25l\u001b[?25hdone\n",
            "  Created wheel for gast: filename=gast-0.2.2-cp37-none-any.whl size=7540 sha256=d105a22e4162aed900b562aa117a19225a459cc071959ec8b17aca73490afb24\n",
            "  Stored in directory: /root/.cache/pip/wheels/5c/2e/7e/a1d4d4fcebe6c381f378ce7743a3ced3699feb89bcfbdadadd\n",
            "Successfully built gast\n",
            "\u001b[31mERROR: tensorflow-probability 0.12.1 has requirement gast>=0.3.2, but you'll have gast 0.2.2 which is incompatible.\u001b[0m\n",
            "Installing collected packages: keras-applications, gast, tensorflow-estimator, tensorboard, tensorflow\n",
            "  Found existing installation: gast 0.3.3\n",
            "    Uninstalling gast-0.3.3:\n",
            "      Successfully uninstalled gast-0.3.3\n",
            "  Found existing installation: tensorflow-estimator 2.4.0\n",
            "    Uninstalling tensorflow-estimator-2.4.0:\n",
            "      Successfully uninstalled tensorflow-estimator-2.4.0\n",
            "  Found existing installation: tensorboard 2.4.1\n",
            "    Uninstalling tensorboard-2.4.1:\n",
            "      Successfully uninstalled tensorboard-2.4.1\n",
            "  Found existing installation: tensorflow 2.4.1\n",
            "    Uninstalling tensorflow-2.4.1:\n",
            "      Successfully uninstalled tensorflow-2.4.1\n",
            "Successfully installed gast-0.2.2 keras-applications-1.0.8 tensorboard-1.15.0 tensorflow-1.15.0 tensorflow-estimator-1.15.1\n"
          ],
          "name": "stdout"
        }
      ]
    },
    {
      "cell_type": "code",
      "metadata": {
        "id": "1jN0I8BhBpOq",
        "colab": {
          "base_uri": "https://localhost:8080/"
        },
        "outputId": "4db951d8-bdbf-42df-b475-bd2159e4ed8e"
      },
      "source": [
        "pip install --user Cython"
      ],
      "execution_count": 2,
      "outputs": [
        {
          "output_type": "stream",
          "text": [
            "Requirement already satisfied: Cython in /usr/local/lib/python3.7/dist-packages (0.29.22)\n"
          ],
          "name": "stdout"
        }
      ]
    },
    {
      "cell_type": "code",
      "metadata": {
        "id": "Qmfk2Y5KByh7",
        "colab": {
          "base_uri": "https://localhost:8080/"
        },
        "outputId": "1a49be63-bd59-4b79-b16c-bff6cc2d9263"
      },
      "source": [
        "pip install --user contextlib2"
      ],
      "execution_count": 3,
      "outputs": [
        {
          "output_type": "stream",
          "text": [
            "Requirement already satisfied: contextlib2 in /usr/local/lib/python3.7/dist-packages (0.5.5)\n"
          ],
          "name": "stdout"
        }
      ]
    },
    {
      "cell_type": "code",
      "metadata": {
        "id": "l1Le1bmDB2Ka",
        "colab": {
          "base_uri": "https://localhost:8080/"
        },
        "outputId": "5ea1dfdd-94a7-41ab-f5e5-e3700aff07b7"
      },
      "source": [
        "pip install --user pillow"
      ],
      "execution_count": 4,
      "outputs": [
        {
          "output_type": "stream",
          "text": [
            "Requirement already satisfied: pillow in /usr/local/lib/python3.7/dist-packages (7.1.2)\n"
          ],
          "name": "stdout"
        }
      ]
    },
    {
      "cell_type": "code",
      "metadata": {
        "id": "qIxDTahkB5O9",
        "colab": {
          "base_uri": "https://localhost:8080/"
        },
        "outputId": "16868064-e076-466c-8d62-fbe08ca15d07"
      },
      "source": [
        "pip install --user lxml"
      ],
      "execution_count": 5,
      "outputs": [
        {
          "output_type": "stream",
          "text": [
            "Requirement already satisfied: lxml in /usr/local/lib/python3.7/dist-packages (4.2.6)\n"
          ],
          "name": "stdout"
        }
      ]
    },
    {
      "cell_type": "code",
      "metadata": {
        "id": "t5juFV1YB6cc",
        "colab": {
          "base_uri": "https://localhost:8080/"
        },
        "outputId": "ffc24600-31e1-4966-f6ce-f8f3ae31ad98"
      },
      "source": [
        "pip install --user jupyter"
      ],
      "execution_count": 6,
      "outputs": [
        {
          "output_type": "stream",
          "text": [
            "Requirement already satisfied: jupyter in /usr/local/lib/python3.7/dist-packages (1.0.0)\n",
            "Requirement already satisfied: ipykernel in /usr/local/lib/python3.7/dist-packages (from jupyter) (4.10.1)\n",
            "Requirement already satisfied: jupyter-console in /usr/local/lib/python3.7/dist-packages (from jupyter) (5.2.0)\n",
            "Requirement already satisfied: nbconvert in /usr/local/lib/python3.7/dist-packages (from jupyter) (5.6.1)\n",
            "Requirement already satisfied: qtconsole in /usr/local/lib/python3.7/dist-packages (from jupyter) (5.0.3)\n",
            "Requirement already satisfied: notebook in /usr/local/lib/python3.7/dist-packages (from jupyter) (5.3.1)\n",
            "Requirement already satisfied: ipywidgets in /usr/local/lib/python3.7/dist-packages (from jupyter) (7.6.3)\n",
            "Requirement already satisfied: tornado>=4.0 in /usr/local/lib/python3.7/dist-packages (from ipykernel->jupyter) (5.1.1)\n",
            "Requirement already satisfied: traitlets>=4.1.0 in /usr/local/lib/python3.7/dist-packages (from ipykernel->jupyter) (5.0.5)\n",
            "Requirement already satisfied: ipython>=4.0.0 in /usr/local/lib/python3.7/dist-packages (from ipykernel->jupyter) (5.5.0)\n",
            "Requirement already satisfied: jupyter-client in /usr/local/lib/python3.7/dist-packages (from ipykernel->jupyter) (5.3.5)\n",
            "Requirement already satisfied: pygments in /usr/local/lib/python3.7/dist-packages (from jupyter-console->jupyter) (2.6.1)\n",
            "Requirement already satisfied: prompt-toolkit<2.0.0,>=1.0.0 in /usr/local/lib/python3.7/dist-packages (from jupyter-console->jupyter) (1.0.18)\n",
            "Requirement already satisfied: jinja2>=2.4 in /usr/local/lib/python3.7/dist-packages (from nbconvert->jupyter) (2.11.3)\n",
            "Requirement already satisfied: testpath in /usr/local/lib/python3.7/dist-packages (from nbconvert->jupyter) (0.4.4)\n",
            "Requirement already satisfied: nbformat>=4.4 in /usr/local/lib/python3.7/dist-packages (from nbconvert->jupyter) (5.1.2)\n",
            "Requirement already satisfied: defusedxml in /usr/local/lib/python3.7/dist-packages (from nbconvert->jupyter) (0.7.1)\n",
            "Requirement already satisfied: pandocfilters>=1.4.1 in /usr/local/lib/python3.7/dist-packages (from nbconvert->jupyter) (1.4.3)\n",
            "Requirement already satisfied: mistune<2,>=0.8.1 in /usr/local/lib/python3.7/dist-packages (from nbconvert->jupyter) (0.8.4)\n",
            "Requirement already satisfied: entrypoints>=0.2.2 in /usr/local/lib/python3.7/dist-packages (from nbconvert->jupyter) (0.3)\n",
            "Requirement already satisfied: jupyter-core in /usr/local/lib/python3.7/dist-packages (from nbconvert->jupyter) (4.7.1)\n",
            "Requirement already satisfied: bleach in /usr/local/lib/python3.7/dist-packages (from nbconvert->jupyter) (3.3.0)\n",
            "Requirement already satisfied: ipython-genutils in /usr/local/lib/python3.7/dist-packages (from qtconsole->jupyter) (0.2.0)\n",
            "Requirement already satisfied: pyzmq>=17.1 in /usr/local/lib/python3.7/dist-packages (from qtconsole->jupyter) (22.0.3)\n",
            "Requirement already satisfied: qtpy in /usr/local/lib/python3.7/dist-packages (from qtconsole->jupyter) (1.9.0)\n",
            "Requirement already satisfied: Send2Trash in /usr/local/lib/python3.7/dist-packages (from notebook->jupyter) (1.5.0)\n",
            "Requirement already satisfied: terminado>=0.8.1 in /usr/local/lib/python3.7/dist-packages (from notebook->jupyter) (0.9.3)\n",
            "Requirement already satisfied: jupyterlab-widgets>=1.0.0; python_version >= \"3.6\" in /usr/local/lib/python3.7/dist-packages (from ipywidgets->jupyter) (1.0.0)\n",
            "Requirement already satisfied: widgetsnbextension~=3.5.0 in /usr/local/lib/python3.7/dist-packages (from ipywidgets->jupyter) (3.5.1)\n",
            "Requirement already satisfied: simplegeneric>0.8 in /usr/local/lib/python3.7/dist-packages (from ipython>=4.0.0->ipykernel->jupyter) (0.8.1)\n",
            "Requirement already satisfied: decorator in /usr/local/lib/python3.7/dist-packages (from ipython>=4.0.0->ipykernel->jupyter) (4.4.2)\n",
            "Requirement already satisfied: pexpect; sys_platform != \"win32\" in /usr/local/lib/python3.7/dist-packages (from ipython>=4.0.0->ipykernel->jupyter) (4.8.0)\n",
            "Requirement already satisfied: setuptools>=18.5 in /usr/local/lib/python3.7/dist-packages (from ipython>=4.0.0->ipykernel->jupyter) (54.2.0)\n",
            "Requirement already satisfied: pickleshare in /usr/local/lib/python3.7/dist-packages (from ipython>=4.0.0->ipykernel->jupyter) (0.7.5)\n",
            "Requirement already satisfied: python-dateutil>=2.1 in /usr/local/lib/python3.7/dist-packages (from jupyter-client->ipykernel->jupyter) (2.8.1)\n",
            "Requirement already satisfied: six>=1.9.0 in /usr/local/lib/python3.7/dist-packages (from prompt-toolkit<2.0.0,>=1.0.0->jupyter-console->jupyter) (1.15.0)\n",
            "Requirement already satisfied: wcwidth in /usr/local/lib/python3.7/dist-packages (from prompt-toolkit<2.0.0,>=1.0.0->jupyter-console->jupyter) (0.2.5)\n",
            "Requirement already satisfied: MarkupSafe>=0.23 in /usr/local/lib/python3.7/dist-packages (from jinja2>=2.4->nbconvert->jupyter) (1.1.1)\n",
            "Requirement already satisfied: jsonschema!=2.5.0,>=2.4 in /usr/local/lib/python3.7/dist-packages (from nbformat>=4.4->nbconvert->jupyter) (2.6.0)\n",
            "Requirement already satisfied: packaging in /usr/local/lib/python3.7/dist-packages (from bleach->nbconvert->jupyter) (20.9)\n",
            "Requirement already satisfied: webencodings in /usr/local/lib/python3.7/dist-packages (from bleach->nbconvert->jupyter) (0.5.1)\n",
            "Requirement already satisfied: ptyprocess; os_name != \"nt\" in /usr/local/lib/python3.7/dist-packages (from terminado>=0.8.1->notebook->jupyter) (0.7.0)\n",
            "Requirement already satisfied: pyparsing>=2.0.2 in /usr/local/lib/python3.7/dist-packages (from packaging->bleach->nbconvert->jupyter) (2.4.7)\n"
          ],
          "name": "stdout"
        }
      ]
    },
    {
      "cell_type": "code",
      "metadata": {
        "id": "LNpYWRncB72C",
        "colab": {
          "base_uri": "https://localhost:8080/"
        },
        "outputId": "80da4770-0c91-4d3d-da4b-52f5f3f97b18"
      },
      "source": [
        "pip install --ser matplotlib"
      ],
      "execution_count": 7,
      "outputs": [
        {
          "output_type": "stream",
          "text": [
            "\n",
            "Usage:   \n",
            "  pip3 install [options] <requirement specifier> [package-index-options] ...\n",
            "  pip3 install [options] -r <requirements file> [package-index-options] ...\n",
            "  pip3 install [options] [-e] <vcs project url> ...\n",
            "  pip3 install [options] [-e] <local project path> ...\n",
            "  pip3 install [options] <archive url/path> ...\n",
            "\n",
            "no such option: --ser\n"
          ],
          "name": "stdout"
        }
      ]
    },
    {
      "cell_type": "code",
      "metadata": {
        "id": "0ZFHn0lJB9Hp",
        "colab": {
          "base_uri": "https://localhost:8080/"
        },
        "outputId": "f0ff5601-01cd-4b29-861d-af4b314b455f"
      },
      "source": [
        "pip install --user tf_slim"
      ],
      "execution_count": 8,
      "outputs": [
        {
          "output_type": "stream",
          "text": [
            "Collecting tf_slim\n",
            "\u001b[?25l  Downloading https://files.pythonhosted.org/packages/02/97/b0f4a64df018ca018cc035d44f2ef08f91e2e8aa67271f6f19633a015ff7/tf_slim-1.1.0-py2.py3-none-any.whl (352kB)\n",
            "\r\u001b[K     |█                               | 10kB 24.1MB/s eta 0:00:01\r\u001b[K     |█▉                              | 20kB 15.7MB/s eta 0:00:01\r\u001b[K     |██▉                             | 30kB 14.3MB/s eta 0:00:01\r\u001b[K     |███▊                            | 40kB 13.3MB/s eta 0:00:01\r\u001b[K     |████▋                           | 51kB 8.2MB/s eta 0:00:01\r\u001b[K     |█████▋                          | 61kB 7.7MB/s eta 0:00:01\r\u001b[K     |██████▌                         | 71kB 8.7MB/s eta 0:00:01\r\u001b[K     |███████▌                        | 81kB 9.6MB/s eta 0:00:01\r\u001b[K     |████████▍                       | 92kB 9.2MB/s eta 0:00:01\r\u001b[K     |█████████▎                      | 102kB 8.1MB/s eta 0:00:01\r\u001b[K     |██████████▎                     | 112kB 8.1MB/s eta 0:00:01\r\u001b[K     |███████████▏                    | 122kB 8.1MB/s eta 0:00:01\r\u001b[K     |████████████                    | 133kB 8.1MB/s eta 0:00:01\r\u001b[K     |█████████████                   | 143kB 8.1MB/s eta 0:00:01\r\u001b[K     |██████████████                  | 153kB 8.1MB/s eta 0:00:01\r\u001b[K     |███████████████                 | 163kB 8.1MB/s eta 0:00:01\r\u001b[K     |███████████████▉                | 174kB 8.1MB/s eta 0:00:01\r\u001b[K     |████████████████▊               | 184kB 8.1MB/s eta 0:00:01\r\u001b[K     |█████████████████▊              | 194kB 8.1MB/s eta 0:00:01\r\u001b[K     |██████████████████▋             | 204kB 8.1MB/s eta 0:00:01\r\u001b[K     |███████████████████▌            | 215kB 8.1MB/s eta 0:00:01\r\u001b[K     |████████████████████▌           | 225kB 8.1MB/s eta 0:00:01\r\u001b[K     |█████████████████████▍          | 235kB 8.1MB/s eta 0:00:01\r\u001b[K     |██████████████████████▍         | 245kB 8.1MB/s eta 0:00:01\r\u001b[K     |███████████████████████▎        | 256kB 8.1MB/s eta 0:00:01\r\u001b[K     |████████████████████████▏       | 266kB 8.1MB/s eta 0:00:01\r\u001b[K     |█████████████████████████▏      | 276kB 8.1MB/s eta 0:00:01\r\u001b[K     |██████████████████████████      | 286kB 8.1MB/s eta 0:00:01\r\u001b[K     |███████████████████████████     | 296kB 8.1MB/s eta 0:00:01\r\u001b[K     |████████████████████████████    | 307kB 8.1MB/s eta 0:00:01\r\u001b[K     |████████████████████████████▉   | 317kB 8.1MB/s eta 0:00:01\r\u001b[K     |█████████████████████████████▉  | 327kB 8.1MB/s eta 0:00:01\r\u001b[K     |██████████████████████████████▊ | 337kB 8.1MB/s eta 0:00:01\r\u001b[K     |███████████████████████████████▋| 348kB 8.1MB/s eta 0:00:01\r\u001b[K     |████████████████████████████████| 358kB 8.1MB/s \n",
            "\u001b[?25hRequirement already satisfied: absl-py>=0.2.2 in /usr/local/lib/python3.7/dist-packages (from tf_slim) (0.12.0)\n",
            "Requirement already satisfied: six in /usr/local/lib/python3.7/dist-packages (from absl-py>=0.2.2->tf_slim) (1.15.0)\n",
            "Installing collected packages: tf-slim\n",
            "Successfully installed tf-slim-1.1.0\n"
          ],
          "name": "stdout"
        }
      ]
    },
    {
      "cell_type": "markdown",
      "metadata": {
        "id": "6hc-a3HtCA8K"
      },
      "source": [
        "### **Mounted the models**"
      ]
    },
    {
      "cell_type": "code",
      "metadata": {
        "colab": {
          "base_uri": "https://localhost:8080/"
        },
        "id": "X2gHgQpHAzcP",
        "outputId": "5b2c1e9d-37c1-4a1b-d1fc-13d5a6bb5ee6"
      },
      "source": [
        "from google.colab import drive\n",
        "drive.mount('/content/gdrive')"
      ],
      "execution_count": 9,
      "outputs": [
        {
          "output_type": "stream",
          "text": [
            "Mounted at /content/gdrive\n"
          ],
          "name": "stdout"
        }
      ]
    },
    {
      "cell_type": "markdown",
      "metadata": {
        "id": "WrBg0BoPCSYb"
      },
      "source": [
        ""
      ]
    },
    {
      "cell_type": "code",
      "metadata": {
        "colab": {
          "base_uri": "https://localhost:8080/"
        },
        "id": "c1v-3MLyA_Wz",
        "outputId": "7899090f-4303-4117-8782-b7ae0e608c7e"
      },
      "source": [
        "!ls"
      ],
      "execution_count": 10,
      "outputs": [
        {
          "output_type": "stream",
          "text": [
            "gdrive\tsample_data\n"
          ],
          "name": "stdout"
        }
      ]
    },
    {
      "cell_type": "code",
      "metadata": {
        "colab": {
          "base_uri": "https://localhost:8080/"
        },
        "id": "F_JZeLIoBDMM",
        "outputId": "03c1db2b-a7ea-481f-cd3c-0779b1dc9b80"
      },
      "source": [
        "%cd gdrive/My Drive/Colabs Tugas Akhir"
      ],
      "execution_count": 34,
      "outputs": [
        {
          "output_type": "stream",
          "text": [
            "[Errno 2] No such file or directory: 'gdrive/My Drive/Colabs Tugas Akhir'\n",
            "/content/gdrive/My Drive\n"
          ],
          "name": "stdout"
        }
      ]
    },
    {
      "cell_type": "code",
      "metadata": {
        "colab": {
          "base_uri": "https://localhost:8080/"
        },
        "id": "ypYLrEK4BM9F",
        "outputId": "c9874a80-334c-4d4a-bae9-dc5bec5ccd6c"
      },
      "source": [
        "!git clone https://github.com/tensorflow/models.git"
      ],
      "execution_count": 12,
      "outputs": [
        {
          "output_type": "stream",
          "text": [
            "fatal: destination path 'models' already exists and is not an empty directory.\n"
          ],
          "name": "stdout"
        }
      ]
    },
    {
      "cell_type": "code",
      "metadata": {
        "colab": {
          "base_uri": "https://localhost:8080/"
        },
        "id": "0DJkoWcbCYj8",
        "outputId": "5700eeab-07e2-48fa-b371-bdebe53ca934"
      },
      "source": [
        "pip install --user pycocotools"
      ],
      "execution_count": 13,
      "outputs": [
        {
          "output_type": "stream",
          "text": [
            "Requirement already satisfied: pycocotools in /usr/local/lib/python3.7/dist-packages (2.0.2)\n",
            "Requirement already satisfied: cython>=0.27.3 in /usr/local/lib/python3.7/dist-packages (from pycocotools) (0.29.22)\n",
            "Requirement already satisfied: setuptools>=18.0 in /usr/local/lib/python3.7/dist-packages (from pycocotools) (54.2.0)\n",
            "Requirement already satisfied: matplotlib>=2.1.0 in /usr/local/lib/python3.7/dist-packages (from pycocotools) (3.2.2)\n",
            "Requirement already satisfied: python-dateutil>=2.1 in /usr/local/lib/python3.7/dist-packages (from matplotlib>=2.1.0->pycocotools) (2.8.1)\n",
            "Requirement already satisfied: pyparsing!=2.0.4,!=2.1.2,!=2.1.6,>=2.0.1 in /usr/local/lib/python3.7/dist-packages (from matplotlib>=2.1.0->pycocotools) (2.4.7)\n",
            "Requirement already satisfied: numpy>=1.11 in /usr/local/lib/python3.7/dist-packages (from matplotlib>=2.1.0->pycocotools) (1.19.5)\n",
            "Requirement already satisfied: kiwisolver>=1.0.1 in /usr/local/lib/python3.7/dist-packages (from matplotlib>=2.1.0->pycocotools) (1.3.1)\n",
            "Requirement already satisfied: cycler>=0.10 in /usr/local/lib/python3.7/dist-packages (from matplotlib>=2.1.0->pycocotools) (0.10.0)\n",
            "Requirement already satisfied: six>=1.5 in /usr/local/lib/python3.7/dist-packages (from python-dateutil>=2.1->matplotlib>=2.1.0->pycocotools) (1.15.0)\n"
          ],
          "name": "stdout"
        }
      ]
    },
    {
      "cell_type": "code",
      "metadata": {
        "colab": {
          "base_uri": "https://localhost:8080/"
        },
        "id": "XgtcLLHSCfMA",
        "outputId": "1ad83c85-f35d-4d78-97d4-3520540b959c"
      },
      "source": [
        "!protoc --version"
      ],
      "execution_count": 14,
      "outputs": [
        {
          "output_type": "stream",
          "text": [
            "libprotoc 3.0.0\n"
          ],
          "name": "stdout"
        }
      ]
    },
    {
      "cell_type": "code",
      "metadata": {
        "colab": {
          "base_uri": "https://localhost:8080/"
        },
        "id": "Nh7BL8x3CxAp",
        "outputId": "0bbf8bbf-e4a0-4038-ed7b-235b088b04ed"
      },
      "source": [
        "cd ./models/research/"
      ],
      "execution_count": 33,
      "outputs": [
        {
          "output_type": "stream",
          "text": [
            "[Errno 2] No such file or directory: './models/research/'\n",
            "/content/gdrive/My Drive\n"
          ],
          "name": "stdout"
        }
      ]
    },
    {
      "cell_type": "code",
      "metadata": {
        "id": "5pVnT57bPSli"
      },
      "source": [
        "!protoc ./object_detection/protos/*.proto --python_out=."
      ],
      "execution_count": 16,
      "outputs": []
    },
    {
      "cell_type": "code",
      "metadata": {
        "colab": {
          "base_uri": "https://localhost:8080/"
        },
        "id": "ZtDhmhO6e5zM",
        "outputId": "f39b656e-bcd0-4697-a056-a59958c081d9"
      },
      "source": [
        "%set_env PYTHONPATH=/content/gdrive/My Drive/Colabs Tugas Akhir/models/research:/content/gdrive/My Drive/Colabs Tugas Akhir/models/research/slim\n",
        "!export | grep PYTHONPATH"
      ],
      "execution_count": 17,
      "outputs": [
        {
          "output_type": "stream",
          "text": [
            "env: PYTHONPATH=/content/gdrive/My Drive/Colabs Tugas Akhir/models/research:/content/gdrive/My Drive/Colabs Tugas Akhir/models/research/slim\n",
            "declare -x PYTHONPATH=\"/content/gdrive/My Drive/Colabs Tugas Akhir/models/research:/content/gdrive/My Drive/Colabs Tugas Akhir/models/research/slim\"\n"
          ],
          "name": "stdout"
        }
      ]
    },
    {
      "cell_type": "code",
      "metadata": {
        "colab": {
          "base_uri": "https://localhost:8080/"
        },
        "id": "G9jKMAZXdgx9",
        "outputId": "49fa2eac-836d-49e6-ec1a-953737fc69ca"
      },
      "source": [
        "!python ./object_detection/builders/model_builder_tf1_test.py"
      ],
      "execution_count": 18,
      "outputs": [
        {
          "output_type": "stream",
          "text": [
            "Running tests under Python 3.7.10: /usr/bin/python3\n",
            "[ RUN      ] ModelBuilderTF1Test.test_create_context_rcnn_from_config_with_params0 (True)\n",
            "[       OK ] ModelBuilderTF1Test.test_create_context_rcnn_from_config_with_params0 (True)\n",
            "[ RUN      ] ModelBuilderTF1Test.test_create_context_rcnn_from_config_with_params1 (False)\n",
            "[       OK ] ModelBuilderTF1Test.test_create_context_rcnn_from_config_with_params1 (False)\n",
            "[ RUN      ] ModelBuilderTF1Test.test_create_experimental_model\n",
            "[       OK ] ModelBuilderTF1Test.test_create_experimental_model\n",
            "[ RUN      ] ModelBuilderTF1Test.test_create_faster_rcnn_from_config_with_crop_feature0 (True)\n",
            "[       OK ] ModelBuilderTF1Test.test_create_faster_rcnn_from_config_with_crop_feature0 (True)\n",
            "[ RUN      ] ModelBuilderTF1Test.test_create_faster_rcnn_from_config_with_crop_feature1 (False)\n",
            "[       OK ] ModelBuilderTF1Test.test_create_faster_rcnn_from_config_with_crop_feature1 (False)\n",
            "[ RUN      ] ModelBuilderTF1Test.test_create_faster_rcnn_model_from_config_with_example_miner\n",
            "[       OK ] ModelBuilderTF1Test.test_create_faster_rcnn_model_from_config_with_example_miner\n",
            "[ RUN      ] ModelBuilderTF1Test.test_create_faster_rcnn_models_from_config_faster_rcnn_with_matmul\n",
            "[       OK ] ModelBuilderTF1Test.test_create_faster_rcnn_models_from_config_faster_rcnn_with_matmul\n",
            "[ RUN      ] ModelBuilderTF1Test.test_create_faster_rcnn_models_from_config_faster_rcnn_without_matmul\n",
            "[       OK ] ModelBuilderTF1Test.test_create_faster_rcnn_models_from_config_faster_rcnn_without_matmul\n",
            "[ RUN      ] ModelBuilderTF1Test.test_create_faster_rcnn_models_from_config_mask_rcnn_with_matmul\n",
            "[       OK ] ModelBuilderTF1Test.test_create_faster_rcnn_models_from_config_mask_rcnn_with_matmul\n",
            "[ RUN      ] ModelBuilderTF1Test.test_create_faster_rcnn_models_from_config_mask_rcnn_without_matmul\n",
            "[       OK ] ModelBuilderTF1Test.test_create_faster_rcnn_models_from_config_mask_rcnn_without_matmul\n",
            "[ RUN      ] ModelBuilderTF1Test.test_create_rfcn_model_from_config\n",
            "[       OK ] ModelBuilderTF1Test.test_create_rfcn_model_from_config\n",
            "[ RUN      ] ModelBuilderTF1Test.test_create_ssd_fpn_model_from_config\n",
            "[       OK ] ModelBuilderTF1Test.test_create_ssd_fpn_model_from_config\n",
            "[ RUN      ] ModelBuilderTF1Test.test_create_ssd_models_from_config\n",
            "[       OK ] ModelBuilderTF1Test.test_create_ssd_models_from_config\n",
            "[ RUN      ] ModelBuilderTF1Test.test_invalid_faster_rcnn_batchnorm_update\n",
            "[       OK ] ModelBuilderTF1Test.test_invalid_faster_rcnn_batchnorm_update\n",
            "[ RUN      ] ModelBuilderTF1Test.test_invalid_first_stage_nms_iou_threshold\n",
            "[       OK ] ModelBuilderTF1Test.test_invalid_first_stage_nms_iou_threshold\n",
            "[ RUN      ] ModelBuilderTF1Test.test_invalid_model_config_proto\n",
            "[       OK ] ModelBuilderTF1Test.test_invalid_model_config_proto\n",
            "[ RUN      ] ModelBuilderTF1Test.test_invalid_second_stage_batch_size\n",
            "[       OK ] ModelBuilderTF1Test.test_invalid_second_stage_batch_size\n",
            "[ RUN      ] ModelBuilderTF1Test.test_session\n",
            "[  SKIPPED ] ModelBuilderTF1Test.test_session\n",
            "[ RUN      ] ModelBuilderTF1Test.test_unknown_faster_rcnn_feature_extractor\n",
            "[       OK ] ModelBuilderTF1Test.test_unknown_faster_rcnn_feature_extractor\n",
            "[ RUN      ] ModelBuilderTF1Test.test_unknown_meta_architecture\n",
            "[       OK ] ModelBuilderTF1Test.test_unknown_meta_architecture\n",
            "[ RUN      ] ModelBuilderTF1Test.test_unknown_ssd_feature_extractor\n",
            "[       OK ] ModelBuilderTF1Test.test_unknown_ssd_feature_extractor\n",
            "----------------------------------------------------------------------\n",
            "Ran 21 tests in 0.124s\n",
            "\n",
            "OK (skipped=1)\n"
          ],
          "name": "stdout"
        }
      ]
    },
    {
      "cell_type": "code",
      "metadata": {
        "colab": {
          "base_uri": "https://localhost:8080/"
        },
        "id": "Y-UlNF6Hk3Ap",
        "outputId": "677a6091-cfc0-4e3e-ade4-b98a8a7b6a09"
      },
      "source": [
        "!pwd"
      ],
      "execution_count": 19,
      "outputs": [
        {
          "output_type": "stream",
          "text": [
            "/content/gdrive/My Drive/Colabs Tugas Akhir/models/research\n"
          ],
          "name": "stdout"
        }
      ]
    },
    {
      "cell_type": "code",
      "metadata": {
        "colab": {
          "base_uri": "https://localhost:8080/"
        },
        "id": "6uhpN64Zl989",
        "outputId": "455066ce-1939-472e-baf0-81cadd1780d5"
      },
      "source": [
        "!python '/content/gdrive/My Drive/Colabs Tugas Akhir/example/apple_detect/xml_to_csv.py'"
      ],
      "execution_count": 20,
      "outputs": [
        {
          "output_type": "stream",
          "text": [
            "Successfully converted xml to csv.\n",
            "Successfully converted xml to csv.\n"
          ],
          "name": "stdout"
        }
      ]
    },
    {
      "cell_type": "code",
      "metadata": {
        "colab": {
          "base_uri": "https://localhost:8080/"
        },
        "id": "0la8ZKp569cQ",
        "outputId": "072bcc66-d94f-4a94-dcfd-9251ae251b2c"
      },
      "source": [
        "%cd ..\n",
        "%cd .."
      ],
      "execution_count": 32,
      "outputs": [
        {
          "output_type": "stream",
          "text": [
            "/content/gdrive/My Drive/Colabs Tugas Akhir\n",
            "/content/gdrive/My Drive\n"
          ],
          "name": "stdout"
        }
      ]
    },
    {
      "cell_type": "code",
      "metadata": {
        "colab": {
          "base_uri": "https://localhost:8080/"
        },
        "id": "uR4GkN_07GZT",
        "outputId": "e58c91e6-068e-4cb4-a184-36bf35b5678d"
      },
      "source": [
        "!pwd"
      ],
      "execution_count": 35,
      "outputs": [
        {
          "output_type": "stream",
          "text": [
            "/content/gdrive/My Drive\n"
          ],
          "name": "stdout"
        }
      ]
    },
    {
      "cell_type": "code",
      "metadata": {
        "colab": {
          "base_uri": "https://localhost:8080/"
        },
        "id": "W0RzwQxg7tQG",
        "outputId": "e0fcc0c1-2631-4381-def2-e5d1f7c76df4"
      },
      "source": [
        "%cd /content/gdrive/My Drive/Colabs Tugas Akhir/example/apple_detect"
      ],
      "execution_count": 45,
      "outputs": [
        {
          "output_type": "stream",
          "text": [
            "/content/gdrive/My Drive/Colabs Tugas Akhir/example/apple_detect\n"
          ],
          "name": "stdout"
        }
      ]
    },
    {
      "cell_type": "code",
      "metadata": {
        "colab": {
          "base_uri": "https://localhost:8080/"
        },
        "id": "NkrwXO996zwx",
        "outputId": "debbe166-d6cf-4838-f966-c8f7cbec294b"
      },
      "source": [
        "!python generate_tfrecord.py --csv_input=train_labels.csv --output_path=train.record --image_dir=train/images"
      ],
      "execution_count": 48,
      "outputs": [
        {
          "output_type": "stream",
          "text": [
            "Successfully created the TFRecords: /content/gdrive/My Drive/Colabs Tugas Akhir/example/apple_detect/train.record\n"
          ],
          "name": "stdout"
        }
      ]
    },
    {
      "cell_type": "code",
      "metadata": {
        "colab": {
          "base_uri": "https://localhost:8080/"
        },
        "id": "HHMuZBVA-7PS",
        "outputId": "6e7ca5c2-06ec-417a-e4d2-38e52cf50985"
      },
      "source": [
        "!python generate_tfrecord.py --csv_input=validation_labels.csv --output_path=validation.record --image_dir=validation/images"
      ],
      "execution_count": 51,
      "outputs": [
        {
          "output_type": "stream",
          "text": [
            "Successfully created the TFRecords: /content/gdrive/My Drive/Colabs Tugas Akhir/example/apple_detect/validation.record\n"
          ],
          "name": "stdout"
        }
      ]
    },
    {
      "cell_type": "markdown",
      "metadata": {
        "id": "TNfA2dlPAcEG"
      },
      "source": [
        "Download Pre-Trained Models"
      ]
    },
    {
      "cell_type": "code",
      "metadata": {
        "colab": {
          "base_uri": "https://localhost:8080/"
        },
        "id": "8LP49zZUAJdH",
        "outputId": "640f290f-5a44-4413-bafd-537410607281"
      },
      "source": [
        "!wget http://download.tensorflow.org/models/object_detection/ssd_mobilenet_v2_quantized_300x300_coco_2019_01_03.tar.gz"
      ],
      "execution_count": 52,
      "outputs": [
        {
          "output_type": "stream",
          "text": [
            "--2021-04-09 00:21:07--  http://download.tensorflow.org/models/object_detection/ssd_mobilenet_v2_quantized_300x300_coco_2019_01_03.tar.gz\n",
            "Resolving download.tensorflow.org (download.tensorflow.org)... 74.125.197.128, 2607:f8b0:400e:c08::80\n",
            "Connecting to download.tensorflow.org (download.tensorflow.org)|74.125.197.128|:80... connected.\n",
            "HTTP request sent, awaiting response... 200 OK\n",
            "Length: 144806142 (138M) [application/x-tar]\n",
            "Saving to: ‘ssd_mobilenet_v2_quantized_300x300_coco_2019_01_03.tar.gz’\n",
            "\n",
            "ssd_mobilenet_v2_qu 100%[===================>] 138.10M  76.9MB/s    in 1.8s    \n",
            "\n",
            "2021-04-09 00:21:09 (76.9 MB/s) - ‘ssd_mobilenet_v2_quantized_300x300_coco_2019_01_03.tar.gz’ saved [144806142/144806142]\n",
            "\n"
          ],
          "name": "stdout"
        }
      ]
    },
    {
      "cell_type": "code",
      "metadata": {
        "colab": {
          "base_uri": "https://localhost:8080/"
        },
        "id": "enBVM4c1FAL4",
        "outputId": "ff1b3803-8942-4b9d-f7ae-3febdbb96fda"
      },
      "source": [
        "%cd ./Colabs Tugas Akhir"
      ],
      "execution_count": 61,
      "outputs": [
        {
          "output_type": "stream",
          "text": [
            "/content/gdrive/My Drive/Colabs Tugas Akhir\n"
          ],
          "name": "stdout"
        }
      ]
    },
    {
      "cell_type": "code",
      "metadata": {
        "colab": {
          "base_uri": "https://localhost:8080/"
        },
        "id": "7qNFIzGQFRBE",
        "outputId": "be01423a-ad0d-4f3f-828f-f4ee75c22836"
      },
      "source": [
        "cd ./models/research/"
      ],
      "execution_count": 62,
      "outputs": [
        {
          "output_type": "stream",
          "text": [
            "/content/gdrive/My Drive/Colabs Tugas Akhir/models/research\n"
          ],
          "name": "stdout"
        }
      ]
    },
    {
      "cell_type": "code",
      "metadata": {
        "id": "OGavGvtfEUQm"
      },
      "source": [
        "!python ./object_detection/legacy/train.py --alsologtoostderr --train_dir=\"/content/gdrive/My Drive/Colabs Tugas Akhir/example/trained_model\" --pipeline_config_path=\"/content/gdrive/My Drive/Colabs Tugas Akhir/example/pretrained_model/ssd_mobilenet_v2_quantized/pipeline.config\""
      ],
      "execution_count": null,
      "outputs": []
    }
  ]
}